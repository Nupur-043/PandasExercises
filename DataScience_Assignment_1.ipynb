{
 "cells": [
  {
   "cell_type": "markdown",
   "id": "4a1924e9",
   "metadata": {},
   "source": [
    "        Data Science: A Programming Approach\n",
    "        "
   ]
  },
  {
   "cell_type": "markdown",
   "id": "71abf691",
   "metadata": {},
   "source": [
    "<h1 align='center' style=\"color: blue;\">Assignment #1</h1>"
   ]
  },
  {
   "cell_type": "markdown",
   "id": "bc3766c2",
   "metadata": {},
   "source": [
    "<b> Question 1:</b> In this question, you need to use a package called `emoji` in your work. To do so, run the following lines of code to install and import the package into your environment. "
   ]
  },
  {
   "cell_type": "code",
   "execution_count": 1,
   "id": "c43e9d02",
   "metadata": {},
   "outputs": [
    {
     "name": "stdout",
     "output_type": "stream",
     "text": [
      "Requirement already satisfied: emoji in /Users/mymac/anaconda3/lib/python3.10/site-packages (2.6.0)\r\n"
     ]
    }
   ],
   "source": [
    "# install the package\n",
    "!python -m pip install emoji"
   ]
  },
  {
   "cell_type": "code",
   "execution_count": 2,
   "id": "fbeca517",
   "metadata": {},
   "outputs": [],
   "source": [
    "# import the package\n",
    "import emoji"
   ]
  },
  {
   "cell_type": "markdown",
   "id": "366399cc",
   "metadata": {},
   "source": [
    "Now consider the following list:"
   ]
  },
  {
   "cell_type": "code",
   "execution_count": 3,
   "id": "cda5c2ae",
   "metadata": {},
   "outputs": [],
   "source": [
    "emoji_list = [':slightly_smiling_face:',':pensive_face:',':disguised_face:',\n",
    "              ':headphone:',':astonished_face:',':hamburger:',':grinning_face_with_smiling_eyes:',\n",
    "              ':panda:',':fearful_face:',':loudly_crying_face:']"
   ]
  },
  {
   "cell_type": "markdown",
   "id": "fc6c356e",
   "metadata": {},
   "source": [
    "The preceding list contains a list of codes that represent various emojis. Using the `emojize` function, you can see the actual emoji. Here's an example:"
   ]
  },
  {
   "cell_type": "code",
   "execution_count": 4,
   "id": "14317b4b",
   "metadata": {},
   "outputs": [
    {
     "name": "stdout",
     "output_type": "stream",
     "text": [
      ":slightly_smiling_face: --> 🙂\n",
      ":pensive_face: --> 😔\n",
      ":disguised_face: --> 🥸\n",
      ":headphone: --> 🎧\n",
      ":astonished_face: --> 😲\n",
      ":hamburger: --> 🍔\n",
      ":grinning_face_with_smiling_eyes: --> 😄\n",
      ":panda: --> 🐼\n",
      ":fearful_face: --> 😨\n",
      ":loudly_crying_face: --> 😭\n"
     ]
    }
   ],
   "source": [
    "for item in emoji_list:\n",
    "    print(item,'-->',emoji.emojize(item))"
   ]
  },
  {
   "cell_type": "markdown",
   "id": "f404e30e",
   "metadata": {},
   "source": [
    "Your task is to perform following parts:\n",
    "<ol>\n",
    "    <li><b>Part #1:</b>\n",
    "        <ul>\n",
    "        <li>Use the <i>input</i> function to show each of the above emojis to a user and ask her to provide 5 words that describe the emoji. The user should provide 5 single word separated by ';' to describe the emoji. <b>For example:</b> \"Happy;Nice; smile;happy ;cheers \"</li>\n",
    "        <li>After receiving the user's input, you must divide the string into a list of five items, remove any possible white space around the words, and convert all of them to lowercase.<b>For example: </b>the above input should converted into ['happy','nice','smile','happy','cheers'] </li>\n",
    "        <li>Convert the list to a set to eliminate any possible duplicates.  <b>For example: </b>the above set should converted into {'happy','nice','smile','cheers'}   \n",
    "        </li>\n",
    "        <li>Make a dictionary that associates each emoji code with a set of words provided by the user as a descriptor for that emoji. In doing so, you need to use the emoji code as the key and the identified set as the value. <b>For example: </b> {':slightly_smiling_face:':{'happy','nice','smile','cheers'}}\n",
    "         </li>\n",
    "            <li>Using the iterative structure, add one set to the dictionary for each emoji code.</li>  \n",
    "        </ul>\n",
    "    <li><b>Part #2:</b> Use the pickle package to save the dictionary you created in the previous section to a data file.</li>\n",
    "    <li><b>Part #3:</b> Load the saved data to a new variable named <i>emoji_dict</i>.</li>\n",
    "    <li><b>Part #4:</b> Prompt the user to write a sentence containing some of the words she used to describe the emojis. Add the associated emoji to the sentence right after the word that describe the emoji and print it for the user <b>For example: </b> If the user inputs \"I'm so happy today\", your code should print \"I'm so happy 🙂 today.\"</li>\n",
    "         \n",
    "</ol>"
   ]
  },
  {
   "cell_type": "code",
   "execution_count": 16,
   "id": "ce336e8a",
   "metadata": {},
   "outputs": [
    {
     "name": "stdout",
     "output_type": "stream",
     "text": [
      "Enter the five words separated by \";\": sad;gloom;crying;tears;sob\n",
      "🙂: {'happy', 'smile', 'cheers', 'nice'}\n",
      "😔: {'dreamy', 'pondering', 'attentive', 'musing', 'sober', 'ruminative', 'speculative', 'ruminating', 'preoccupied', 'grave', 'serious', 'reflective', 'withdrawn', 'wistful', 'reflecting', 'thoughtful', 'contemplative', 'absorbed', 'abstracted', 'thinking'}\n",
      "🥸: {'deceive', 'cloak', 'dissemble', 'camouflage', 'fake', 'dress up'}\n",
      "🎧: {'headset', 'earphone', 'stereo', 'microphone', 'earpiece'}\n",
      "😲: {'shocked', 'amazed', 'horrified', 'stunned', 'surprised'}\n",
      "🍔: {'burger', 'cheeseburger', 'ground chuck', 'ground round', 'beefburger', 'chopped beefsteak'}\n",
      "😄: {'smiling', 'genial', 'shining', 'radiant', 'joyful', 'sparkling', 'cheerful'}\n",
      "🐼: {'bear', 'koala', 'panda', 'coonbear'}\n",
      "😨: {'panicky', 'tense', 'scared', 'terrified', 'frightened', 'petrified', 'afraid', 'uneasy'}\n",
      "😭: {'sob', 'crying', 'weep', 'depressed', 'tears', 'gloom', 'sad'}\n",
      ":user_input:: {'crying', 'gloom', 'sad', 'sob', 'tears'}\n"
     ]
    }
   ],
   "source": [
    "# Write part #1 code here\n",
    "\n",
    "\n",
    "\n",
    "\n",
    "word = input('Enter the five words separated by \";\": ')\n",
    "word_list = [w.strip().lower() for w in word.split(';')]\n",
    "word_set = set(word_list)\n",
    "\n",
    "emoji_dict = {\n",
    "    ':slightly_smiling_face:': {'happy', 'nice', 'smile', 'cheers'},\n",
    "    ':pensive_face:': {'contemplative', 'dreamy', 'sober', 'thoughtful', 'wistful', 'absorbed', 'abstracted', 'attentive',\n",
    "                       'grave', 'musing', 'pondering', 'preoccupied', 'reflecting', 'reflective', 'ruminating', 'ruminative',\n",
    "                       'serious', 'speculative', 'thinking', 'withdrawn'},\n",
    "    ':disguised_face:': {'camouflage', 'cloak', 'deceive', 'dissemble', 'dress up', 'fake'},\n",
    "    ':headphone:': {'earphone', 'headset', 'microphone', 'earpiece', 'stereo'},\n",
    "    ':astonished_face:': {'amazed', 'stunned', 'shocked', 'surprised', 'horrified'},\n",
    "    ':hamburger:': {'beefburger', 'burger', 'cheeseburger', 'chopped beefsteak', 'ground chuck', 'ground round'},\n",
    "    ':grinning_face_with_smiling_eyes:': {'cheerful', 'genial', 'radiant', 'shining', 'smiling', 'sparkling', 'joyful'},\n",
    "    ':panda:': {'panda', 'bear', 'coonbear', 'koala'},\n",
    "    ':fearful_face:': {'terrified', 'afraid', 'scared', 'petrified', 'frightened', 'tense', 'panicky', 'uneasy'},\n",
    "    ':loudly_crying_face:': {'crying', 'sad', 'gloom', 'depressed', 'tears', 'sob', 'weep'}\n",
    "}\n",
    "\n",
    "emoji_dict[':user_input:'] = word_set\n",
    "\n",
    "for emoji_code, words in emoji_dict.items():\n",
    "    print(f\"{emoji.emojize(emoji_code)}: {words}\")\n",
    "\n"
   ]
  },
  {
   "cell_type": "code",
   "execution_count": 17,
   "id": "f0b67766",
   "metadata": {},
   "outputs": [],
   "source": [
    "# Write part #2 code here\n",
    "import pickle\n",
    "with open('emoji_dict.csv','wb') as file:\n",
    "    pickle.dump(emoji_dict,file)"
   ]
  },
  {
   "cell_type": "code",
   "execution_count": 19,
   "id": "f4e52e88",
   "metadata": {},
   "outputs": [
    {
     "name": "stdout",
     "output_type": "stream",
     "text": [
      "{':astonished_face:': {'amazed',\n",
      "                       'horrified',\n",
      "                       'shocked',\n",
      "                       'stunned',\n",
      "                       'surprised'},\n",
      " ':disguised_face:': {'camouflage',\n",
      "                      'cloak',\n",
      "                      'deceive',\n",
      "                      'dissemble',\n",
      "                      'dress up',\n",
      "                      'fake'},\n",
      " ':fearful_face:': {'afraid',\n",
      "                    'frightened',\n",
      "                    'panicky',\n",
      "                    'petrified',\n",
      "                    'scared',\n",
      "                    'tense',\n",
      "                    'terrified',\n",
      "                    'uneasy'},\n",
      " ':grinning_face_with_smiling_eyes:': {'cheerful',\n",
      "                                       'genial',\n",
      "                                       'joyful',\n",
      "                                       'radiant',\n",
      "                                       'shining',\n",
      "                                       'smiling',\n",
      "                                       'sparkling'},\n",
      " ':hamburger:': {'beefburger',\n",
      "                 'burger',\n",
      "                 'cheeseburger',\n",
      "                 'chopped beefsteak',\n",
      "                 'ground chuck',\n",
      "                 'ground round'},\n",
      " ':headphone:': {'earphone', 'headset', 'stereo', 'microphone', 'earpiece'},\n",
      " ':loudly_crying_face:': {'crying',\n",
      "                          'depressed',\n",
      "                          'gloom',\n",
      "                          'sad',\n",
      "                          'sob',\n",
      "                          'tears',\n",
      "                          'weep'},\n",
      " ':panda:': {'bear', 'koala', 'panda', 'coonbear'},\n",
      " ':pensive_face:': {'absorbed',\n",
      "                    'abstracted',\n",
      "                    'attentive',\n",
      "                    'contemplative',\n",
      "                    'dreamy',\n",
      "                    'grave',\n",
      "                    'musing',\n",
      "                    'pondering',\n",
      "                    'preoccupied',\n",
      "                    'reflecting',\n",
      "                    'reflective',\n",
      "                    'ruminating',\n",
      "                    'ruminative',\n",
      "                    'serious',\n",
      "                    'sober',\n",
      "                    'speculative',\n",
      "                    'thinking',\n",
      "                    'thoughtful',\n",
      "                    'wistful',\n",
      "                    'withdrawn'},\n",
      " ':slightly_smiling_face:': {'happy', 'smile', 'cheers', 'nice'},\n",
      " ':user_input:': {'crying', 'gloom', 'sad', 'sob', 'tears'}}\n"
     ]
    }
   ],
   "source": [
    "# Write part #3 code here\n",
    "from pprint import pprint\n",
    "with open('emoji_dict.csv','rb') as file:\n",
    "    e_dict=pickle.load(file)\n",
    "    pprint(e_dict)"
   ]
  },
  {
   "cell_type": "code",
   "execution_count": 27,
   "id": "d5bfb23e",
   "metadata": {},
   "outputs": [
    {
     "name": "stdout",
     "output_type": "stream",
     "text": [
      "enter a sentence: i am sad\n",
      "i am sad 😭\n"
     ]
    }
   ],
   "source": [
    "# Write part #4 code here\n",
    "sentence=input('enter a sentence: ')\n",
    "words = sentence.split()\n",
    "\n",
    "for i in range(len(words)):\n",
    "    for emoji_code, emoji_words in emoji_dict.items():\n",
    "        for word in emoji_words:\n",
    "            if word == words[i].lower():\n",
    "                words[i] = f\"{words[i]} {emoji.emojize(emoji_code)}\"\n",
    "\n",
    "modified_sentence = ' '.join(words)\n",
    "print(modified_sentence)"
   ]
  },
  {
   "cell_type": "markdown",
   "id": "af1915d2",
   "metadata": {},
   "source": [
    "<p><b>Question #2</b>: \n",
    "\n",
    "Your task is to create a simple encryption method. In your encryption process, you must replace each character in a sentence with the corresponding character in the encryption list. Consider the following string files in your work:"
   ]
  },
  {
   "cell_type": "code",
   "execution_count": 31,
   "id": "d6c360a7",
   "metadata": {},
   "outputs": [],
   "source": [
    "alp_string = 'abcdefghijklmnopqrstuvwxyz'\n",
    "enc_string = 'wxyzabcdefghijklmnopqrstuv'"
   ]
  },
  {
   "cell_type": "markdown",
   "id": "f526ab6f",
   "metadata": {},
   "source": [
    "The `alp_string` shows the sequance of alphabet characters. The `enc_string` shows the corresponding encrpytion characters. For example, in this sequance, the character 'a' should be replaced by 'w' and the character 'b' should be replaced by 'x' and so on."
   ]
  },
  {
   "cell_type": "markdown",
   "id": "bf027036",
   "metadata": {},
   "source": [
    "<ol>\n",
    "    <li> Write a small python function <b>string_to_list</b> that converts a string to a list of characters.</li>\n",
    "    <li> Convert alp_string to alp_list.</li>\n",
    "    <li> Convert enc_string to enc_list.</li>\n",
    "    <li> Build a dictionary named <b>enc_dict</b> in which each character in alp_list becomes a key and the corresponding character in enc_list becomes the value ( Here is the expcted out put that shows first two elements in the dictionary :{'a':'w', 'b':'x', ...}).<b>Tip:</b> Use zip function along with comprehension to achieve this task</li>\n",
    "    <li>Write a function named <b>encryption</b> that uses enc_dict to convert an input string to its encrypted version of it and return the encrypted string.(<b>Important:</b> Since your dictionary contains only lower case characters, make sure that your function converts the input string to a lower case string at the very first step.)</li>\n",
    "    <li>Write lines of code that asks the user to input a text message. Then use the encryption function that you've developed in the last step to find the encrypted version of the text message.</li>\n",
    "        <p><b>Here is an example:</b></p>\n",
    "        <p>Please input a message: 'this is a test message to test encyption.'</p>\n",
    "        <p>Your encrypted message is: 'pdeo eo w paop iaoowca pk paop ajyulpekj.'</p>\n",
    "</ol>"
   ]
  },
  {
   "cell_type": "code",
   "execution_count": 32,
   "id": "31c333c7",
   "metadata": {},
   "outputs": [],
   "source": [
    "# Write your answer here (part1)\n",
    "def string_to_list(string):\n",
    "    l=list(string)\n",
    "    return l\n",
    "    \n",
    "    "
   ]
  },
  {
   "cell_type": "code",
   "execution_count": 33,
   "id": "b92f39ad",
   "metadata": {},
   "outputs": [],
   "source": [
    "# Write your answer here (part2)\n",
    "alp_list=string_to_list(alp_string)"
   ]
  },
  {
   "cell_type": "code",
   "execution_count": 34,
   "id": "a9daa0f4",
   "metadata": {},
   "outputs": [],
   "source": [
    "# Write your answer here (part3)\n",
    "enc_list=string_to_list(enc_string)"
   ]
  },
  {
   "cell_type": "code",
   "execution_count": 35,
   "id": "f698787c",
   "metadata": {},
   "outputs": [
    {
     "name": "stdout",
     "output_type": "stream",
     "text": [
      "{'a': 'w',\n",
      " 'b': 'x',\n",
      " 'c': 'y',\n",
      " 'd': 'z',\n",
      " 'e': 'a',\n",
      " 'f': 'b',\n",
      " 'g': 'c',\n",
      " 'h': 'd',\n",
      " 'i': 'e',\n",
      " 'j': 'f',\n",
      " 'k': 'g',\n",
      " 'l': 'h',\n",
      " 'm': 'i',\n",
      " 'n': 'j',\n",
      " 'o': 'k',\n",
      " 'p': 'l',\n",
      " 'q': 'm',\n",
      " 'r': 'n',\n",
      " 's': 'o',\n",
      " 't': 'p',\n",
      " 'u': 'q',\n",
      " 'v': 'r',\n",
      " 'w': 's',\n",
      " 'x': 't',\n",
      " 'y': 'u',\n",
      " 'z': 'v'}\n"
     ]
    }
   ],
   "source": [
    "# Write your answer here (part4)\n",
    "enc_dict={key:value for key,value in zip(alp_list,enc_list)}\n",
    "pprint(enc_dict)\n"
   ]
  },
  {
   "cell_type": "code",
   "execution_count": 42,
   "id": "7959d0fc",
   "metadata": {},
   "outputs": [],
   "source": [
    "# Write your answer here (part5)\n",
    "def encryption(s,enc_dict):\n",
    "    new=''\n",
    "    for i in s:\n",
    "        if i in enc_dict:\n",
    "            new+=enc_dict[i]\n",
    "        else:\n",
    "            new+=i\n",
    "    return new"
   ]
  },
  {
   "cell_type": "code",
   "execution_count": 43,
   "id": "8ce0a0c0",
   "metadata": {},
   "outputs": [
    {
     "name": "stdout",
     "output_type": "stream",
     "text": [
      "Please input a message: hello there\n",
      "The encrypted text is dahhk pdana\n"
     ]
    }
   ],
   "source": [
    "# Write your answer here (part6)\n",
    "s1=input('Please input a message: ').lower()\n",
    "print(f\"The encrypted text is {encryption(s1,enc_dict)}\")\n"
   ]
  },
  {
   "cell_type": "markdown",
   "id": "4d065291",
   "metadata": {},
   "source": [
    "<p><b>Question #3</b>: Consider the previous example and write a decryption function.\n",
    "<ol>\n",
    "    <li>Build your function and test it with a simple input</li>\n",
    "    <p><b>Here is a simple example:</b></p>\n",
    "    <p>Input: 'pdeo eo w paop iaoowca pk paop ajyulpekj.'</p>\n",
    "    <p>Output: 'this is a test message to test encyption.'</p>\n",
    "    <p>&nbsp;</p>\n",
    "    <li>What is the output of this message?</li>\n",
    "    <p>Input: 'pdeo eo w dezzaj iaoowca; kjya zaykzaz, ck pk ywjrwo wjz lkop ej pda laan zeoyqooekj xkwnz: dks awou pda wooecjiajp eo.'</p>\n",
    "</ol>    \n",
    "</p>"
   ]
  },
  {
   "cell_type": "code",
   "execution_count": null,
   "id": "19b0ca85",
   "metadata": {},
   "outputs": [],
   "source": [
    "# Write your answer here (part1)"
   ]
  },
  {
   "cell_type": "code",
   "execution_count": null,
   "id": "4c98a8ae",
   "metadata": {},
   "outputs": [],
   "source": [
    "# Write your answer here (part2)"
   ]
  },
  {
   "cell_type": "markdown",
   "id": "0877309b",
   "metadata": {},
   "source": [
    "<p><b>Question #4</b>:<br>\n",
    "    \n",
    "Consider the follwing line of codes:"
   ]
  },
  {
   "cell_type": "code",
   "execution_count": null,
   "id": "56b4451b",
   "metadata": {},
   "outputs": [],
   "source": [
    "import numpy as np\n",
    "import matplotlib.image as mpimg\n",
    "import matplotlib.pyplot as plt\n",
    "%matplotlib inline\n",
    "\n",
    "Greece_image = np.array(mpimg.imread('Greece.jpg'))\n",
    "fig, ax = plt.subplots(figsize=(12, 18))\n",
    "ax.imshow(Greece_image)\n",
    "ax.set(xticks=[], yticks=[])\n",
    "\n",
    "plt.show()"
   ]
  },
  {
   "cell_type": "code",
   "execution_count": null,
   "id": "258fac13",
   "metadata": {},
   "outputs": [],
   "source": [
    "Greece_image.shape"
   ]
  },
  {
   "cell_type": "markdown",
   "id": "c6c9fab8",
   "metadata": {},
   "source": [
    "As you know `Greece_image` is a 3 dimensional Numpy array. With that consideration, answer the following questions:\n",
    "\n",
    "<ol>\n",
    "    <li>Copy the Greece_image to a new numpy array named New_Greece_Image. Add a value of 50 to all cells in the Blue channel of New_Greece_Image that have a value of less than 200. Visualize the new image.</li>\n",
    "    <li>Make all the values in the New_Greece_Image's Green channel equal to 0. Visualize the new image. (You don't need to create a new copy. Just use the same updated array for the last step)</li>\n",
    "    <li> Use Greece_image array and apply the mean aggregation function to find the average of values across different channels. Put the result in new array named New_Greece_Gray_Scale. (<b>Tip:</b> The shape of the output array (New_Greece_Gray_Scale) should be equal to (3371, 5056)). Visualize the New_Netherlands_Gray_Scale.</li>\n",
    "    <li>Copy the Greece_image to a new numpy array named Greece_Image_Colorful. Modify the Greece_Image_Colorful array in such a way that you have only the Blue channel on the top half of the image and only the Green channel on the bottom half of the image. Visualize the result.</li>\n",
    " </ol>"
   ]
  },
  {
   "cell_type": "code",
   "execution_count": null,
   "id": "f8e41ae9",
   "metadata": {},
   "outputs": [],
   "source": [
    "# Write your answer here (part1)"
   ]
  },
  {
   "cell_type": "code",
   "execution_count": null,
   "id": "47848daa",
   "metadata": {},
   "outputs": [],
   "source": [
    "# Write your answer here (part2)"
   ]
  },
  {
   "cell_type": "code",
   "execution_count": null,
   "id": "665858f8",
   "metadata": {},
   "outputs": [],
   "source": [
    "# Write your answer here (part3)"
   ]
  },
  {
   "cell_type": "code",
   "execution_count": null,
   "id": "2d66c209",
   "metadata": {},
   "outputs": [],
   "source": [
    "# Write your answer here (part4)"
   ]
  },
  {
   "cell_type": "markdown",
   "id": "a08bcbf9",
   "metadata": {},
   "source": [
    "<p><b>Question #5</b>:<br> \n",
    "<ol>\n",
    "<li> Create a 6x5 random matrix (matrix A) using a normal distribution with mean = -1.2 and std = .4 </li>\n",
    "<li> Create another 5x3 matrix in the following format: (matrix B) \n",
    "<br>\n",
    "<br>\n",
    "<div>\n",
    "<table style=\"width:200px; border:1px solid black\">\n",
    "<tr>\n",
    "    <td style=\"text-align:center; border:1px solid black\">0</td>\n",
    "    <td style=\"text-align:center; border:1px solid black\">-1</td>\n",
    "    <td style=\"text-align:center; border:1px solid black\">-1</td>\n",
    "</tr>\n",
    "<tr>\n",
    "    <td style=\"text-align:center; border:1px solid black\">3</td>\n",
    "    <td style=\"text-align:center;border:1px solid black\">4</td>\n",
    "    <td style=\"text-align:center;border:1px solid black\">1</td>\n",
    "</tr>\n",
    "<tr>\n",
    "    <td style=\"text-align:center; border:1px solid black\">-1</td>\n",
    "    <td style=\"text-align:center; border:1px solid black\">2</td>\n",
    "    <td style=\"text-align:center;border:1px solid black\">3</td>\n",
    "</tr>\n",
    "<tr>\n",
    "    <td style=\"text-align:center; border:1px solid black\">2</td>\n",
    "    <td style=\"text-align:center; border:1px solid black\">4</td>\n",
    "    <td style=\"text-align:center; border:1px solid black\">3</td>\n",
    "</tr>\n",
    "<tr>\n",
    "    <td style=\"text-align:center;border:1px solid black\">2</td>\n",
    "    <td style=\"text-align:center;border:1px solid black\">0</td>\n",
    "    <td style=\"text-align:center;border:1px solid black\">-2</td>\n",
    "</tr>\n",
    "</table>\n",
    "<div></li>\n",
    "<br>   \n",
    "<li> Find Dot Product of matrix A and B and put it in matrix C.</li>\n",
    "<li> Find the row wise sum of the matrix C.</li> \n",
    "</p>\n",
    "\n"
   ]
  },
  {
   "cell_type": "code",
   "execution_count": null,
   "id": "180ac102",
   "metadata": {},
   "outputs": [],
   "source": [
    "# Write your answer here (part1)"
   ]
  },
  {
   "cell_type": "code",
   "execution_count": null,
   "id": "53c2cd11",
   "metadata": {},
   "outputs": [],
   "source": [
    "# Write your answer here (part2)"
   ]
  },
  {
   "cell_type": "code",
   "execution_count": null,
   "id": "2aec08ce",
   "metadata": {},
   "outputs": [],
   "source": [
    "# Write your answer here (part3)"
   ]
  },
  {
   "cell_type": "code",
   "execution_count": null,
   "id": "b33c24c9",
   "metadata": {},
   "outputs": [],
   "source": [
    "# Write your answer here (part4)"
   ]
  },
  {
   "cell_type": "markdown",
   "id": "a1e01c6c",
   "metadata": {},
   "source": [
    "<p><b>Question #6</b>:<br> \n",
    "<ol>\n",
    "    <li> Use pandas read_csv( ) function to read the BlackFriday.csv file - You can find the csv file in Canvas. (<b>Note:</b> This is a dataset available in Kaggle. It is a dataset of 550000 observations about the black Friday in a retail store, it contains different kinds of variables either numerical or categorical. It contains missing values.)</li>\n",
    "<li> Find the number of male and female in this dataset. \n",
    "    <ul><li>To do so, you must first create a separate dataset containing User ID, Gender, and Age.</li>\n",
    "    <li>Name the new dataset as customer_dataset.</li>\n",
    "    <li>Remove duplicate rows from the customer_dataset.</li>\n",
    "    <li>Use the group by method to find the number of males and females in the dataset.</li>\n",
    "    </ul>\n",
    " </li>\n",
    "    \n",
    "<li> Find the average purchase amount by individuals' gender \n",
    "    <ul>\n",
    "        <li>Again, you must first aggregate the purchase amount at the user level (sum) before determining it at the gender level.</li> \n",
    "    </ul>      \n",
    " </li>\n",
    "    \n",
    "<li> Find the maximum purchase amount by age and city category and sort the result by the maximum purchase amount (ascending) </li>\n",
    "<li> Find the minimum purchase amount by gender and marital status and sort the result by the minimum purchase amount (descending) </li>\n",
    "</p>"
   ]
  },
  {
   "cell_type": "code",
   "execution_count": null,
   "id": "68c54fc0",
   "metadata": {},
   "outputs": [],
   "source": [
    "# Write your answer here (part1)"
   ]
  },
  {
   "cell_type": "code",
   "execution_count": null,
   "id": "87b80cf9",
   "metadata": {},
   "outputs": [],
   "source": [
    "# Write your answer here (part2)"
   ]
  },
  {
   "cell_type": "code",
   "execution_count": null,
   "id": "bf27ba98",
   "metadata": {},
   "outputs": [],
   "source": [
    "# Write your answer here (part3)"
   ]
  },
  {
   "cell_type": "code",
   "execution_count": null,
   "id": "ff18ac1f",
   "metadata": {},
   "outputs": [],
   "source": [
    "# Write your answer here (part4)"
   ]
  },
  {
   "cell_type": "code",
   "execution_count": null,
   "id": "93096462",
   "metadata": {},
   "outputs": [],
   "source": [
    "# Write your answer here (part5)"
   ]
  },
  {
   "cell_type": "markdown",
   "id": "5503af33",
   "metadata": {},
   "source": [
    "<p><b>Output</b>: \n",
    "    <ul>\n",
    "        <li>You need to provide answers in the designated cell for each question (don't delete the existing comments in the cells).</li>\n",
    "        <li>You need to make sure that your final file contains both codes and results (don't clear the outputs).</li>\n",
    "        <li>Save your file in the .ipynb format (as it is right now).</li>\n",
    "        <li>Upload your file into Canvas (Assignment #1)</li>\n",
    "        <li>All the assignments should be submitted by <b>Friday Sep 23 at 11:59 AM</b>. No late submission will be accepted</li>\n",
    "        <li>I will not accept any submission by email or any other method, so make sure that you submit the file in a right place at a right time.</li>\n",
    "        </ul>\n",
    "        </p> "
   ]
  }
 ],
 "metadata": {
  "kernelspec": {
   "display_name": "Python 3 (ipykernel)",
   "language": "python",
   "name": "python3"
  },
  "language_info": {
   "codemirror_mode": {
    "name": "ipython",
    "version": 3
   },
   "file_extension": ".py",
   "mimetype": "text/x-python",
   "name": "python",
   "nbconvert_exporter": "python",
   "pygments_lexer": "ipython3",
   "version": "3.10.9"
  }
 },
 "nbformat": 4,
 "nbformat_minor": 5
}
